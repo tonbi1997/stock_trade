{
 "cells": [
  {
   "cell_type": "markdown",
   "id": "cc2cbb9a-e36c-48f7-b485-3d45d8016711",
   "metadata": {},
   "source": [
    "#　線形回帰モデル"
   ]
  },
  {
   "cell_type": "code",
   "execution_count": 11,
   "id": "54dee9c5-7c5d-44ed-bc86-7cec64d96d2f",
   "metadata": {},
   "outputs": [],
   "source": [
    "import pandas as pd\n",
    "import matplotlib.pyplot as plt\n",
    "import seaborn as sns\n",
    "\n",
    "#図のスタイルをdarkgridにする\n",
    "sns.set_style('darkgrid')\n",
    "#図に日本語が利用できるようにする\n",
    "plt.rcParams['font.family'] = 'Yu Mincho'\n",
    "%matplotlib inline\n",
    "import statsmodels.api as sm"
   ]
  },
  {
   "cell_type": "code",
   "execution_count": 3,
   "id": "aea9d13a-40d6-4248-828e-f6e398cdae5e",
   "metadata": {},
   "outputs": [],
   "source": [
    "ac_temperature = pd.read_csv(\n",
    "    'https://www.quantsresearch.com/'\n",
    "    'publication/tensorflowBook/sampledata/lm_example.csv',\n",
    "    index_col = [0]\n",
    ")"
   ]
  },
  {
   "cell_type": "code",
   "execution_count": 5,
   "id": "4d1f8660-7586-400e-b350-24696af75736",
   "metadata": {},
   "outputs": [
    {
     "data": {
      "text/plain": [
       "<AxesSubplot:xlabel='最高気温', ylabel='ルームエアコン所有数量'>"
      ]
     },
     "execution_count": 5,
     "metadata": {},
     "output_type": "execute_result"
    },
    {
     "data": {
      "image/png": "[encoded data removed]",
      "text/plain": [
       "<Figure size 432x288 with 1 Axes>"
      ]
     },
     "metadata": {
      "needs_background": "light"
     },
     "output_type": "display_data"
    }
   ],
   "source": [
    "# labelをac_temperatureのindexに指定\n",
    "sns.regplot(\n",
    "    x = '最高気温',\n",
    "    y = 'ルームエアコン所有数量',\n",
    "    data = ac_temperature,\n",
    "    fit_reg = False,\n",
    "    label = ac_temperature.index\n",
    ")"
   ]
  },
  {
   "cell_type": "code",
   "execution_count": 13,
   "id": "8ed48555-0204-4665-af32-b0720e3d7a6c",
   "metadata": {},
   "outputs": [
    {
     "data": {
      "text/html": [
       "<table class=\"simpletable\">\n",
       "<caption>OLS Regression Results</caption>\n",
       "<tr>\n",
       "  <th>Dep. Variable:</th>       <td>ルームエアコン所有数量</td>   <th>  R-squared:         </th> <td>   0.404</td>\n",
       "</tr>\n",
       "<tr>\n",
       "  <th>Model:</th>                   <td>OLS</td>       <th>  Adj. R-squared:    </th> <td>   0.390</td>\n",
       "</tr>\n",
       "<tr>\n",
       "  <th>Method:</th>             <td>Least Squares</td>  <th>  F-statistic:       </th> <td>   30.46</td>\n",
       "</tr>\n",
       "<tr>\n",
       "  <th>Date:</th>             <td>Tue, 28 Dec 2021</td> <th>  Prob (F-statistic):</th> <td>1.61e-06</td>\n",
       "</tr>\n",
       "<tr>\n",
       "  <th>Time:</th>                 <td>20:23:36</td>     <th>  Log-Likelihood:    </th> <td> -365.33</td>\n",
       "</tr>\n",
       "<tr>\n",
       "  <th>No. Observations:</th>      <td>    47</td>      <th>  AIC:               </th> <td>   734.7</td>\n",
       "</tr>\n",
       "<tr>\n",
       "  <th>Df Residuals:</th>          <td>    45</td>      <th>  BIC:               </th> <td>   738.4</td>\n",
       "</tr>\n",
       "<tr>\n",
       "  <th>Df Model:</th>              <td>     1</td>      <th>                     </th>     <td> </td>   \n",
       "</tr>\n",
       "<tr>\n",
       "  <th>Covariance Type:</th>      <td>nonrobust</td>    <th>                     </th>     <td> </td>   \n",
       "</tr>\n",
       "</table>\n",
       "<table class=\"simpletable\">\n",
       "<tr>\n",
       "    <td></td>       <th>coef</th>     <th>std err</th>      <th>t</th>      <th>P>|t|</th>  <th>[0.025</th>    <th>0.975]</th>  \n",
       "</tr>\n",
       "<tr>\n",
       "  <th>const</th> <td> -1.01e+04</td> <td> 2328.911</td> <td>   -4.339</td> <td> 0.000</td> <td>-1.48e+04</td> <td>-5413.680</td>\n",
       "</tr>\n",
       "<tr>\n",
       "  <th>最高気温</th>  <td>  417.7945</td> <td>   75.704</td> <td>    5.519</td> <td> 0.000</td> <td>  265.319</td> <td>  570.270</td>\n",
       "</tr>\n",
       "</table>\n",
       "<table class=\"simpletable\">\n",
       "<tr>\n",
       "  <th>Omnibus:</th>       <td> 2.300</td> <th>  Durbin-Watson:     </th> <td>   1.134</td>\n",
       "</tr>\n",
       "<tr>\n",
       "  <th>Prob(Omnibus):</th> <td> 0.317</td> <th>  Jarque-Bera (JB):  </th> <td>   1.758</td>\n",
       "</tr>\n",
       "<tr>\n",
       "  <th>Skew:</th>          <td>-0.473</td> <th>  Prob(JB):          </th> <td>   0.415</td>\n",
       "</tr>\n",
       "<tr>\n",
       "  <th>Kurtosis:</th>      <td> 3.036</td> <th>  Cond. No.          </th> <td>    837.</td>\n",
       "</tr>\n",
       "</table><br/><br/>Notes:<br/>[1] Standard Errors assume that the covariance matrix of the errors is correctly specified."
      ],
      "text/plain": [
       "<class 'statsmodels.iolib.summary.Summary'>\n",
       "\"\"\"\n",
       "                            OLS Regression Results                            \n",
       "==============================================================================\n",
       "Dep. Variable:            ルームエアコン所有数量   R-squared:                       0.404\n",
       "Model:                            OLS   Adj. R-squared:                  0.390\n",
       "Method:                 Least Squares   F-statistic:                     30.46\n",
       "Date:                Tue, 28 Dec 2021   Prob (F-statistic):           1.61e-06\n",
       "Time:                        20:23:36   Log-Likelihood:                -365.33\n",
       "No. Observations:                  47   AIC:                             734.7\n",
       "Df Residuals:                      45   BIC:                             738.4\n",
       "Df Model:                           1                                         \n",
       "Covariance Type:            nonrobust                                         \n",
       "==============================================================================\n",
       "                 coef    std err          t      P>|t|      [0.025      0.975]\n",
       "------------------------------------------------------------------------------\n",
       "const       -1.01e+04   2328.911     -4.339      0.000   -1.48e+04   -5413.680\n",
       "最高気温         417.7945     75.704      5.519      0.000     265.319     570.270\n",
       "==============================================================================\n",
       "Omnibus:                        2.300   Durbin-Watson:                   1.134\n",
       "Prob(Omnibus):                  0.317   Jarque-Bera (JB):                1.758\n",
       "Skew:                          -0.473   Prob(JB):                        0.415\n",
       "Kurtosis:                       3.036   Cond. No.                         837.\n",
       "==============================================================================\n",
       "\n",
       "Notes:\n",
       "[1] Standard Errors assume that the covariance matrix of the errors is correctly specified.\n",
       "\"\"\""
      ]
     },
     "execution_count": 13,
     "metadata": {},
     "output_type": "execute_result"
    }
   ],
   "source": [
    "explanatory_variable = sm.add_constant(ac_temperature['最高気温'])\n",
    "model = sm.OLS(\n",
    "    endog =ac_temperature['ルームエアコン所有数量'],\n",
    "    exog = explanatory_variable\n",
    ")\n",
    "result =model.fit()\n",
    "result.summary()"
   ]
  },
  {
   "cell_type": "code",
   "execution_count": null,
   "id": "e03c86e4-ecb1-4ed4-9831-fb164352bb21",
   "metadata": {},
   "outputs": [],
   "source": [
    "\"\"\"\n",
    "推定結果の見方（まとめ）\n",
    "用語 （日本語） 意味／説明\n",
    "Dependent Variable 被説明変数（従属変数） 説明されるべき変数。\n",
    "(Independent) Variable 説明変数（独立変数） 被説明変数の動きを説明するために用いる変数。\n",
    "Coefficient 係数 説明変数が被説明変数に与える影響（説明変数が１単位変化したときに被説\n",
    "明変数がどれだけ変化するか）を表す係数。\n",
    "Std. Error (of Coefficients) 係数の標準誤差 係数の推定値の標準誤差。小さいほど精度の高い推定。\n",
    "t-statistic t 値 係数の有意性（意味がある説明変数かどうか）を検定するための統計量。\n",
    "t 値＝係数の推定値／係数の標準誤差。概ね 2 より大きければ良い。\n",
    "Prob. p 値（t 検定に基づく） 説明変数として意味の無い（係数がゼロである）確率。小さければ意味のあ\n",
    "る説明変数である（「有意」である）と判断。\n",
    "R-squared 決定係数 被説明変数の動きのうち、説明変数の動きで説明できる割合＝回帰式の当て\n",
    "はまりの良さを示す。１が最も良い。\n",
    "Adjusted R-squared 自由度修正済決定係数 説明変数の数を考慮した上で当てはまりの良さを判断するのに用いる。\n",
    "S.E. of Regression 回帰の標準誤差 回帰式の誤差の標準偏差。小さい方が良い。予測の精度を測る際などに使用。\n",
    "Sum Squared Resid. 残差平方和 残差（説明できずに残った部分）の２乗の和。最小二乗法はこれを最小にす\n",
    "るように、係数の値を求める。\n",
    "Log Likelihood 対数尤度 想定した回帰モデルから見て、実際に得られた標本がどの程度もっともらし\n",
    "いか。大きい方が良い。\n",
    "Durbin-Watson Stat. ダービン・ワトソン比 撹乱項に系列相関があるかどうかを検定する統計量。2 に近ければ良い。\n",
    "Akaike Info. Criterion 赤池情報量基準 回帰式の当てはまりの良さを示す。小さいほど良い。\n",
    "Schwarz Criterion シュワルツ情報量基準 回帰式の当てはまりの良さを示す。小さいほど良い。\n",
    "F-statistic F 値 回帰式が意味があるかどうかを検定する統計量。\n",
    "Prob. (F-statistic) （F 検定に基づく）p 値 回帰式が意味が無い（全ての説明変数の係数がゼロである）確率。\n",
    "\"\"\""
   ]
  }
 ],
 "metadata": {
  "kernelspec": {
   "display_name": "Python 3 (ipykernel)",
   "language": "python",
   "name": "python3"
  },
  "language_info": {
   "codemirror_mode": {
    "name": "ipython",
    "version": 3
   },
   "file_extension": ".py",
   "mimetype": "text/x-python",
   "name": "python",
   "nbconvert_exporter": "python",
   "pygments_lexer": "ipython3",
   "version": "3.8.12"
  }
 },
 "nbformat": 4,
 "nbformat_minor": 5
}
