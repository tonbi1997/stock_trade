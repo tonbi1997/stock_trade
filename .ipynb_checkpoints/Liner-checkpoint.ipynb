{
 "cells": [
  {
   "cell_type": "markdown",
   "id": "cc2cbb9a-e36c-48f7-b485-3d45d8016711",
   "metadata": {},
   "source": [
    "#　線形回帰モデル"
   ]
  },
  {
   "cell_type": "code",
   "execution_count": 1,
   "id": "54dee9c5-7c5d-44ed-bc86-7cec64d96d2f",
   "metadata": {},
   "outputs": [],
   "source": [
    "import pandas as pd\n",
    "import matplotlib.pyplot as plt\n",
    "import seaborn as sns\n",
    "\n",
    "#図のスタイルをdarkgridにする\n",
    "sns.set_style('darkgrid')\n",
    "#図に日本語が利用できるようにする\n",
    "plt.rcParams['font.family'] = 'Yu Mincho'\n",
    "%matplotlib inline\n",
    "import statsmodels.api"
   ]
  },
  {
   "cell_type": "code",
   "execution_count": null,
   "id": "aea9d13a-40d6-4248-828e-f6e398cdae5e",
   "metadata": {},
   "outputs": [],
   "source": []
  }
 ],
 "metadata": {
  "kernelspec": {
   "display_name": "Python 3 (ipykernel)",
   "language": "python",
   "name": "python3"
  },
  "language_info": {
   "codemirror_mode": {
    "name": "ipython",
    "version": 3
   },
   "file_extension": ".py",
   "mimetype": "text/x-python",
   "name": "python",
   "nbconvert_exporter": "python",
   "pygments_lexer": "ipython3",
   "version": "3.8.12"
  }
 },
 "nbformat": 4,
 "nbformat_minor": 5
}
