{
 "cells": [
  {
   "cell_type": "code",
   "execution_count": 18,
   "id": "027d762a",
   "metadata": {},
   "outputs": [],
   "source": [
    "import re\n",
    "import pandas as pd\n",
    "from tqdm import tqdm_notebook as tqdm\n",
    "from os import path\n",
    "import glob\n",
    "import pathlib"
   ]
  },
  {
   "cell_type": "code",
   "execution_count": 40,
   "id": "50f02d86",
   "metadata": {},
   "outputs": [],
   "source": [
    "#データをダウンロードしたフォルダ\n",
    "DATA_DIR = 'K:\\kabu.plus\\csv'\n",
    "\n",
    "#株価一覧表\n",
    "PRICE_DIR = path.join(DATA_DIR, 'japan-all-stock-prices\\daily')\n",
    "\n",
    "#投資指標データ\n",
    "STOCK_DATA_DIR = path.join(DATA_DIR, 'japan-all-stock-data\\daily')\n",
    "#決算・財務・業務データ\n",
    "FIN_RESULTS_DIR= path.join(DATA_DIR, 'japan-all-stock-financial-results\\monthly')\n",
    "\n",
    "#結合したデータを保存するフォルダ\n",
    "OUT_DIR = 'D:\\DEV\\workspace\\stock_trade\\data'\n"
   ]
  },
  {
   "cell_type": "code",
   "execution_count": 20,
   "id": "0b0dba5e-5010-40a4-acf4-e2571df85a5c",
   "metadata": {},
   "outputs": [],
   "source": [
    "import warnings\n",
    "warnings.simplefilter('ignore')\n",
    "def input_file(file,li):\n",
    "    data_ = pd.read_csv(\n",
    "        f'file:{file}', encoding = 'sjis', na_values='-'\n",
    "    )\n",
    "    \n",
    "    #カラム名にスペースが混じることがあるので削除\n",
    "    data_.colums = [column.strip() for column in data_.columns]\n",
    "    \n",
    "    #日時はファイル名から取得\n",
    "    try:\n",
    "        timestamp = pd.Timestamp(re.findall(r'\\d{8}', file.stem)[0])\n",
    "        li.append(data_.assign(日時=timestamp))\n",
    "    except:\n",
    "        print(file.stem + 'ファイル名に日時がない')\n"
   ]
  },
  {
   "cell_type": "markdown",
   "id": "41b52c9b-a263-4e9f-85c0-4c51e6e841c3",
   "metadata": {},
   "source": [
    "# 株価一覧表のデータを読み込む"
   ]
  },
  {
   "cell_type": "code",
   "execution_count": 25,
   "id": "209d9b47",
   "metadata": {},
   "outputs": [
    {
     "data": {
      "application/vnd.jupyter.widget-view+json": {
       "model_id": "8c228e75aea24a9db5fa4369bfaa1b11",
       "version_major": 2,
       "version_minor": 0
      },
      "text/plain": [
       "  0%|          | 0/266 [00:00<?, ?it/s]"
      ]
     },
     "metadata": {},
     "output_type": "display_data"
    },
    {
     "name": "stdout",
     "output_type": "stream",
     "text": [
      "japan-all-stock-pricesファイル名に日時がない\n"
     ]
    }
   ],
   "source": [
    "price_data = []\n",
    "#PRICE_DIR以下にあるcsvファイルのパスをすべて取得する\n",
    "file_list = list(pathlib.Path(PRICE_DIR).glob('*.csv'))\n",
    "\n",
    "for file in tqdm(file_list):\n",
    "    input_file(file,price_data)\n",
    "    \n"
   ]
  },
  {
   "cell_type": "code",
   "execution_count": 26,
   "id": "7b07a632-a2e3-473d-8ba1-a59ef44d9b6f",
   "metadata": {},
   "outputs": [],
   "source": [
    "price_data = pd.concat(price_data).assign(\n",
    "    #時刻をすべて00:00:00に合わせる\n",
    "    日時 = lambda x: x['日時'].map(\n",
    "        lambda elm: pd.Timestamp(pd.to_datetime(elm).date())\n",
    "    )\n",
    ")"
   ]
  },
  {
   "cell_type": "markdown",
   "id": "74e43aab-eada-4700-a085-c37e6ade8cb6",
   "metadata": {},
   "source": [
    "# 投資指標データを読み込む"
   ]
  },
  {
   "cell_type": "code",
   "execution_count": 37,
   "id": "f757fd79-c62e-4a83-aa68-2610092939a6",
   "metadata": {},
   "outputs": [
    {
     "data": {
      "application/vnd.jupyter.widget-view+json": {
       "model_id": "88797e38ca8c40c6ab38b726ebf16e11",
       "version_major": 2,
       "version_minor": 0
      },
      "text/plain": [
       "  0%|          | 0/266 [00:00<?, ?it/s]"
      ]
     },
     "metadata": {},
     "output_type": "display_data"
    },
    {
     "name": "stdout",
     "output_type": "stream",
     "text": [
      "japan-all-stock-dataファイル名に日時がない\n"
     ]
    }
   ],
   "source": [
    "stock_data = []\n",
    "#STOCK_DATA_DIR以下にあるcsvファイルのパスをすべて取得する\n",
    "file_list = list(pathlib.Path(STOCK_DATA_DIR).glob('*.csv'))\n",
    "\n",
    "for file in tqdm(file_list):\n",
    "    input_file(file,stock_data)\n",
    "    \n"
   ]
  },
  {
   "cell_type": "code",
   "execution_count": 30,
   "id": "47861612-6819-492d-ab12-ea75700bf18e",
   "metadata": {},
   "outputs": [],
   "source": [
    "stock_data = pd.concat(stock_data).assign(\n",
    "    #時刻をすべて00:00:00に合わせる\n",
    "    日時 = lambda x: x['日時'].map(\n",
    "        lambda elm: pd.Timestamp(pd.to_datetime(elm).date())\n",
    "    ),\n",
    "    \n",
    "    安値日付 = lambda x: x['安値日付'].map(\n",
    "        lambda elm: pd.Timestamp(pd.to_datetime(elm).date())\n",
    "    ),\n",
    "    \n",
    "    高値日付 = lambda x: x['高値日付'].map(\n",
    "        lambda elm: pd.Timestamp(pd.to_datetime(elm).date())\n",
    "    )\n",
    ")"
   ]
  },
  {
   "cell_type": "markdown",
   "id": "455a3ab4-bd55-4bef-874c-711acd414bd3",
   "metadata": {},
   "source": [
    "# 株価一覧表と投資指標データを結合する"
   ]
  },
  {
   "cell_type": "code",
   "execution_count": 32,
   "id": "f1a4819b-1ef4-4db5-9708-7ab72f991a25",
   "metadata": {},
   "outputs": [],
   "source": [
    "daily_data = pd.merge(\n",
    "    price_data,\n",
    "    stock_data,\n",
    "    on = ['SC', '時価総額（百万円）', '名称', '市場', '業種', '日時'],\n",
    "    how = 'left'\n",
    ")"
   ]
  },
  {
   "cell_type": "markdown",
   "id": "82dcf7b0-a28b-4624-ba55-d37d1898dec4",
   "metadata": {},
   "source": [
    "#　決算・財務・業績データを読み込む"
   ]
  },
  {
   "cell_type": "code",
   "execution_count": 42,
   "id": "52bc2809-27de-48b8-a921-d5ba0cefccb1",
   "metadata": {},
   "outputs": [
    {
     "data": {
      "application/vnd.jupyter.widget-view+json": {
       "model_id": "d3eed9df846b42baa0971713b9319ffc",
       "version_major": 2,
       "version_minor": 0
      },
      "text/plain": [
       "  0%|          | 0/14 [00:00<?, ?it/s]"
      ]
     },
     "metadata": {},
     "output_type": "display_data"
    },
    {
     "name": "stdout",
     "output_type": "stream",
     "text": [
      "japan-all-stock-financial-resultsファイル名に日時がない\n"
     ]
    }
   ],
   "source": [
    "financial_data = []\n",
    "file_list = list(pathlib.Path(FIN_RESULTS_DIR).glob('*.csv'))\n",
    "\n",
    "for file in tqdm(file_list):\n",
    "    input_file(file,financial_data)\n",
    "    \n",
    "financial_data = pd.concat(financial_data).assign(\n",
    "    #時刻をすべて00:00:00に合わせる\n",
    "    日時 = lambda x: x['日時'].map(\n",
    "        lambda elm: pd.Timestamp(pd.to_datetime(elm).date())\n",
    "    ),\n",
    "    \n",
    "    #　全角（）が扱えないので一時カラムで対処\n",
    "    kessan_tmp = lambda x: x['決算発表日（本決算）'].map(\n",
    "        lambda elm: pd.Timestamp(pd.to_datetime(elm).date())\n",
    "    )\n",
    ")"
   ]
  },
  {
   "cell_type": "markdown",
   "id": "a1459cb2-c9c8-4f10-917d-35f9fe949833",
   "metadata": {},
   "source": [
    "# pickleで保存"
   ]
  },
  {
   "cell_type": "code",
   "execution_count": 44,
   "id": "9f7a2c6e-cf11-4b2f-8eba-201b8b640c10",
   "metadata": {},
   "outputs": [],
   "source": [
    "daily_data.to_pickle(path.join(OUT_DIR, 'daily_data.pickle'))\n",
    "financial_data.to_pickle(path.join(OUT_DIR, 'financial_data_all.pickle'))"
   ]
  },
  {
   "cell_type": "code",
   "execution_count": null,
   "id": "47e7c3bc-6a7a-4c84-b324-0a0167c53d4c",
   "metadata": {},
   "outputs": [],
   "source": []
  },
  {
   "cell_type": "code",
   "execution_count": null,
   "id": "148cc32d",
   "metadata": {},
   "outputs": [],
   "source": []
  }
 ],
 "metadata": {
  "kernelspec": {
   "display_name": "Python 3.8 (XPython)",
   "language": "python",
   "name": "xpython"
  },
  "language_info": {
   "file_extension": ".py",
   "mimetype": "text/x-python",
   "name": "python",
   "version": "3.8.10"
  },
  "varInspector": {
   "cols": {
    "lenName": 16,
    "lenType": 16,
    "lenVar": 40
   },
   "kernels_config": {
    "python": {
     "delete_cmd_postfix": "",
     "delete_cmd_prefix": "del ",
     "library": "var_list.py",
     "varRefreshCmd": "print(var_dic_list())"
    },
    "r": {
     "delete_cmd_postfix": ") ",
     "delete_cmd_prefix": "rm(",
     "library": "var_list.r",
     "varRefreshCmd": "cat(var_dic_list()) "
    }
   },
   "oldHeight": 272.727364,
   "position": {
    "height": "294.716px",
    "left": "1325.86px",
    "right": "20px",
    "top": "204.94px",
    "width": "342.003px"
   },
   "types_to_exclude": [
    "module",
    "function",
    "builtin_function_or_method",
    "instance",
    "_Feature"
   ],
   "varInspector_section_display": "block",
   "window_display": true
  }
 },
 "nbformat": 4,
 "nbformat_minor": 5
}
